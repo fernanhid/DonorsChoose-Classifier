{
 "cells": [
  {
   "cell_type": "code",
   "execution_count": 286,
   "metadata": {
    "collapsed": true
   },
   "outputs": [],
   "source": [
    "import pandas as pd\n",
    "from collections import Counter\n",
    "import matplotlib.pyplot as plt\n",
    "import calendar\n",
    "import seaborn as sns\n",
    "import numpy as np\n",
    "from datetime import datetime\n",
    "\n",
    "%matplotlib inline"
   ]
  },
  {
   "cell_type": "code",
   "execution_count": 2,
   "metadata": {
    "collapsed": false
   },
   "outputs": [],
   "source": [
    "data = pd.read_csv('projects.csv', parse_dates =[\"date_posted\"])\n",
    "essays = pd.read_csv('essays.csv')\n",
    "outcomes = pd.read_csv('outcomes.csv')"
   ]
  },
  {
   "cell_type": "code",
   "execution_count": 3,
   "metadata": {
    "collapsed": false
   },
   "outputs": [
    {
     "name": "stdout",
     "output_type": "stream",
     "text": [
      "<class 'pandas.core.frame.DataFrame'>\n",
      "RangeIndex: 664098 entries, 0 to 664097\n",
      "Data columns (total 35 columns):\n",
      "projectid                                 664098 non-null object\n",
      "teacher_acctid                            664098 non-null object\n",
      "schoolid                                  664098 non-null object\n",
      "school_ncesid                             621362 non-null float64\n",
      "school_latitude                           664098 non-null float64\n",
      "school_longitude                          664098 non-null float64\n",
      "school_city                               664098 non-null object\n",
      "school_state                              664098 non-null object\n",
      "school_zip                                664094 non-null float64\n",
      "school_metro                              582190 non-null object\n",
      "school_district                           663150 non-null object\n",
      "school_county                             664081 non-null object\n",
      "school_charter                            664098 non-null object\n",
      "school_magnet                             664098 non-null object\n",
      "school_year_round                         664098 non-null object\n",
      "school_nlns                               664098 non-null object\n",
      "school_kipp                               664098 non-null object\n",
      "school_charter_ready_promise              664098 non-null object\n",
      "teacher_prefix                            664094 non-null object\n",
      "teacher_teach_for_america                 664098 non-null object\n",
      "teacher_ny_teaching_fellow                664098 non-null object\n",
      "primary_focus_subject                     664059 non-null object\n",
      "primary_focus_area                        664059 non-null object\n",
      "secondary_focus_subject                   456205 non-null object\n",
      "secondary_focus_area                      456205 non-null object\n",
      "resource_type                             664053 non-null object\n",
      "poverty_level                             664098 non-null object\n",
      "grade_level                               664089 non-null object\n",
      "fulfillment_labor_materials               629016 non-null float64\n",
      "total_price_excluding_optional_support    664098 non-null float64\n",
      "total_price_including_optional_support    664098 non-null float64\n",
      "students_reached                          663952 non-null float64\n",
      "eligible_double_your_impact_match         664098 non-null object\n",
      "eligible_almost_home_match                664098 non-null object\n",
      "date_posted                               664098 non-null datetime64[ns]\n",
      "dtypes: datetime64[ns](1), float64(8), object(26)\n",
      "memory usage: 177.3+ MB\n"
     ]
    }
   ],
   "source": [
    "# Check for Missing Values\n",
    "data.info()"
   ]
  },
  {
   "cell_type": "markdown",
   "metadata": {},
   "source": [
    "### Merging Data"
   ]
  },
  {
   "cell_type": "code",
   "execution_count": 4,
   "metadata": {
    "collapsed": false
   },
   "outputs": [],
   "source": [
    "is_exciting = outcomes[['projectid', 'is_exciting']]\n",
    "merged_df = pd.merge(data, is_exciting, on='projectid')\n",
    "merged_df = merged_df.applymap(lambda x: 1 if x == 't' else 0 if x == 'f' else x)\n",
    "merged_df['year_posted'] = map(lambda x: x.year, merged_df.date_posted)\n",
    "merged_df['month_posted'] = map(lambda x: x.strftime(\"%b\"), merged_df.date_posted)\n",
    "merged_df['day_of_week_posted'] = map(lambda x: calendar.day_name[x.weekday()], merged_df.date_posted)\n",
    "merged_df['day_posted'] = map(lambda x: x.day, merged_df.date_posted)"
   ]
  },
  {
   "cell_type": "markdown",
   "metadata": {},
   "source": [
    "# 1. Exploration"
   ]
  },
  {
   "cell_type": "code",
   "execution_count": 5,
   "metadata": {
    "collapsed": false
   },
   "outputs": [
    {
     "data": {
      "image/png": "[encoded data removed]",
      "text/plain": [
       "<matplotlib.figure.Figure at 0x13ab0b950>"
      ]
     },
     "metadata": {},
     "output_type": "display_data"
    }
   ],
   "source": [
    "sns.factorplot(x = 'is_exciting', data = merged_df, kind = 'count', size = 5, aspect = 1.4)\n",
    "_ = plt.title('Distrution of Exciting Projects')"
   ]
  },
  {
   "cell_type": "markdown",
   "metadata": {},
   "source": [
    "Class Imbalance"
   ]
  },
  {
   "cell_type": "code",
   "execution_count": 6,
   "metadata": {
    "collapsed": false
   },
   "outputs": [
    {
     "name": "stdout",
     "output_type": "stream",
     "text": [
      "\n"
     ]
    },
    {
     "data": {
      "image/png": "[encoded data removed]",
      "text/plain": [
       "<matplotlib.figure.Figure at 0x13ab0bd50>"
      ]
     },
     "metadata": {},
     "output_type": "display_data"
    }
   ],
   "source": [
    "merged_df.groupby('year_posted').count()['is_exciting'].plot()\n",
    "plt.ylabel('# of Exciting Articles')\n",
    "plt.title('Exciting Articles Per Year')\n",
    "print ''"
   ]
  },
  {
   "cell_type": "code",
   "execution_count": 7,
   "metadata": {
    "collapsed": false
   },
   "outputs": [
    {
     "name": "stdout",
     "output_type": "stream",
     "text": [
      "\n"
     ]
    },
    {
     "data": {
      "image/png": "[encoded data removed]",
      "text/plain": [
       "<matplotlib.figure.Figure at 0x13af474d0>"
      ]
     },
     "metadata": {},
     "output_type": "display_data"
    }
   ],
   "source": [
    "weekdays = ['Monday', 'Tuesday', 'Wednesday', 'Thursday', 'Friday', 'Saturday', 'Sunday']\n",
    "merged_df.groupby('day_of_week_posted').count()['is_exciting'][weekdays].plot(kind = 'bar')\n",
    "plt.ylabel('# of Exciting Articles')\n",
    "plt.title('Exciting Articles Per Day of Week')\n",
    "print ''"
   ]
  },
  {
   "cell_type": "code",
   "execution_count": 8,
   "metadata": {
    "collapsed": false
   },
   "outputs": [
    {
     "name": "stdout",
     "output_type": "stream",
     "text": [
      "\n"
     ]
    },
    {
     "data": {
      "image/png": "[encoded data removed]",
      "text/plain": [
       "<matplotlib.figure.Figure at 0x12459d5d0>"
      ]
     },
     "metadata": {},
     "output_type": "display_data"
    }
   ],
   "source": [
    "months = ['Jan', 'Feb', 'Mar', 'Apr', 'May', 'Jun', 'Jul', 'Aug', 'Sep', 'Oct', 'Nov', 'Dec']\n",
    "merged_df.groupby('month_posted').count()['is_exciting'][months].plot(kind = 'bar')\n",
    "plt.ylabel('# of Exciting Articles')\n",
    "plt.title('Exciting Articles Per Month')\n",
    "print ''"
   ]
  },
  {
   "cell_type": "code",
   "execution_count": 9,
   "metadata": {
    "collapsed": false
   },
   "outputs": [
    {
     "name": "stdout",
     "output_type": "stream",
     "text": [
      "\n"
     ]
    },
    {
     "data": {
      "image/png": "[encoded data removed]",
      "text/plain": [
       "<matplotlib.figure.Figure at 0x12459d590>"
      ]
     },
     "metadata": {},
     "output_type": "display_data"
    }
   ],
   "source": [
    "merged_df.groupby('day_posted').count()['is_exciting'].plot()\n",
    "plt.ylabel('# of Exciting Articles')\n",
    "plt.title('Exciting Articles Per Month')\n",
    "print ''"
   ]
  },
  {
   "cell_type": "code",
   "execution_count": 10,
   "metadata": {
    "collapsed": false
   },
   "outputs": [
    {
     "data": {
      "image/png": "[encoded data removed]",
      "text/plain": [
       "<matplotlib.figure.Figure at 0x10412af90>"
      ]
     },
     "metadata": {},
     "output_type": "display_data"
    }
   ],
   "source": [
    "sns.factorplot(x = 'school_state', data = merged_df, kind ='count', size = 10, aspect = 2)\n",
    "plt.title('Projects Per State')\n",
    "_ = plt.ylabel('Total Projects')"
   ]
  },
  {
   "cell_type": "code",
   "execution_count": 60,
   "metadata": {
    "collapsed": false
   },
   "outputs": [
    {
     "data": {
      "text/plain": [
       "Index([u'projectid', u'teacher_acctid', u'schoolid', u'school_ncesid',\n",
       "       u'school_latitude', u'school_longitude', u'school_city',\n",
       "       u'school_state', u'school_zip', u'school_metro', u'school_district',\n",
       "       u'school_county', u'school_charter', u'school_magnet',\n",
       "       u'school_year_round', u'school_nlns', u'school_kipp',\n",
       "       u'school_charter_ready_promise', u'teacher_prefix',\n",
       "       u'teacher_teach_for_america', u'teacher_ny_teaching_fellow',\n",
       "       u'primary_focus_subject', u'primary_focus_area',\n",
       "       u'secondary_focus_subject', u'secondary_focus_area', u'resource_type',\n",
       "       u'poverty_level', u'grade_level', u'fulfillment_labor_materials',\n",
       "       u'total_price_excluding_optional_support',\n",
       "       u'total_price_including_optional_support', u'students_reached',\n",
       "       u'eligible_double_your_impact_match', u'eligible_almost_home_match',\n",
       "       u'date_posted', u'is_exciting', u'year_posted', u'month_posted',\n",
       "       u'day_of_week_posted', u'day_posted'],\n",
       "      dtype='object')"
      ]
     },
     "execution_count": 60,
     "metadata": {},
     "output_type": "execute_result"
    }
   ],
   "source": [
    "merged_df.columns"
   ]
  },
  {
   "cell_type": "markdown",
   "metadata": {},
   "source": [
    "# 2. Preparing data for Modeling"
   ]
  },
  {
   "cell_type": "code",
   "execution_count": 12,
   "metadata": {
    "collapsed": true
   },
   "outputs": [],
   "source": [
    "unnecessary_cols = ['projectid', 'teacher_acctid', 'schoolid', 'school_ncesid',\n",
    "                    'school_latitude', 'school_longitude', 'school_city', 'date_posted',\n",
    "                    'date_posted', 'school_zip', 'school_metro', 'school_district',\n",
    "                    'school_county']"
   ]
  },
  {
   "cell_type": "code",
   "execution_count": 13,
   "metadata": {
    "collapsed": false
   },
   "outputs": [],
   "source": [
    "pre_modeling_data = merged_df[merged_df.columns.difference(unnecessary_cols)]"
   ]
  },
  {
   "cell_type": "code",
   "execution_count": 41,
   "metadata": {
    "collapsed": false
   },
   "outputs": [
    {
     "data": {
      "text/html": [
       "<div>\n",
       "<table border=\"1\" class=\"dataframe\">\n",
       "  <thead>\n",
       "    <tr style=\"text-align: right;\">\n",
       "      <th></th>\n",
       "      <th>day_posted</th>\n",
       "      <th>eligible_almost_home_match</th>\n",
       "      <th>eligible_double_your_impact_match</th>\n",
       "      <th>fulfillment_labor_materials</th>\n",
       "      <th>is_exciting</th>\n",
       "      <th>school_charter</th>\n",
       "      <th>school_charter_ready_promise</th>\n",
       "      <th>school_kipp</th>\n",
       "      <th>school_magnet</th>\n",
       "      <th>school_nlns</th>\n",
       "      <th>school_year_round</th>\n",
       "      <th>students_reached</th>\n",
       "      <th>teacher_ny_teaching_fellow</th>\n",
       "      <th>teacher_teach_for_america</th>\n",
       "      <th>total_price_excluding_optional_support</th>\n",
       "      <th>total_price_including_optional_support</th>\n",
       "      <th>year_posted</th>\n",
       "    </tr>\n",
       "  </thead>\n",
       "  <tbody>\n",
       "    <tr>\n",
       "      <th>count</th>\n",
       "      <td>619326.000000</td>\n",
       "      <td>619326.000000</td>\n",
       "      <td>619326.000000</td>\n",
       "      <td>584244.000000</td>\n",
       "      <td>619326.000000</td>\n",
       "      <td>619326.000000</td>\n",
       "      <td>619326.000000</td>\n",
       "      <td>619326.000000</td>\n",
       "      <td>619326.000000</td>\n",
       "      <td>619326.000000</td>\n",
       "      <td>619326.000000</td>\n",
       "      <td>619182.000000</td>\n",
       "      <td>619326.000000</td>\n",
       "      <td>619326.000000</td>\n",
       "      <td>6.193260e+05</td>\n",
       "      <td>6.193260e+05</td>\n",
       "      <td>619326.000000</td>\n",
       "    </tr>\n",
       "    <tr>\n",
       "      <th>mean</th>\n",
       "      <td>15.454234</td>\n",
       "      <td>0.060479</td>\n",
       "      <td>0.276628</td>\n",
       "      <td>27.303921</td>\n",
       "      <td>0.059274</td>\n",
       "      <td>0.086197</td>\n",
       "      <td>0.005096</td>\n",
       "      <td>0.006772</td>\n",
       "      <td>0.094482</td>\n",
       "      <td>0.015481</td>\n",
       "      <td>0.050132</td>\n",
       "      <td>97.439624</td>\n",
       "      <td>0.017876</td>\n",
       "      <td>0.058265</td>\n",
       "      <td>5.359818e+02</td>\n",
       "      <td>6.380910e+02</td>\n",
       "      <td>2010.494957</td>\n",
       "    </tr>\n",
       "    <tr>\n",
       "      <th>std</th>\n",
       "      <td>8.798625</td>\n",
       "      <td>0.238372</td>\n",
       "      <td>0.447331</td>\n",
       "      <td>8.960030</td>\n",
       "      <td>0.236137</td>\n",
       "      <td>0.280655</td>\n",
       "      <td>0.071203</td>\n",
       "      <td>0.082012</td>\n",
       "      <td>0.292498</td>\n",
       "      <td>0.123457</td>\n",
       "      <td>0.218217</td>\n",
       "      <td>2364.069969</td>\n",
       "      <td>0.132500</td>\n",
       "      <td>0.234244</td>\n",
       "      <td>1.312596e+04</td>\n",
       "      <td>1.600576e+04</td>\n",
       "      <td>2.198525</td>\n",
       "    </tr>\n",
       "    <tr>\n",
       "      <th>min</th>\n",
       "      <td>1.000000</td>\n",
       "      <td>0.000000</td>\n",
       "      <td>0.000000</td>\n",
       "      <td>9.000000</td>\n",
       "      <td>0.000000</td>\n",
       "      <td>0.000000</td>\n",
       "      <td>0.000000</td>\n",
       "      <td>0.000000</td>\n",
       "      <td>0.000000</td>\n",
       "      <td>0.000000</td>\n",
       "      <td>0.000000</td>\n",
       "      <td>0.000000</td>\n",
       "      <td>0.000000</td>\n",
       "      <td>0.000000</td>\n",
       "      <td>0.000000e+00</td>\n",
       "      <td>0.000000e+00</td>\n",
       "      <td>2002.000000</td>\n",
       "    </tr>\n",
       "    <tr>\n",
       "      <th>25%</th>\n",
       "      <td>8.000000</td>\n",
       "      <td>0.000000</td>\n",
       "      <td>0.000000</td>\n",
       "      <td>NaN</td>\n",
       "      <td>0.000000</td>\n",
       "      <td>0.000000</td>\n",
       "      <td>0.000000</td>\n",
       "      <td>0.000000</td>\n",
       "      <td>0.000000</td>\n",
       "      <td>0.000000</td>\n",
       "      <td>0.000000</td>\n",
       "      <td>NaN</td>\n",
       "      <td>0.000000</td>\n",
       "      <td>0.000000</td>\n",
       "      <td>2.670000e+02</td>\n",
       "      <td>3.175000e+02</td>\n",
       "      <td>2009.000000</td>\n",
       "    </tr>\n",
       "    <tr>\n",
       "      <th>50%</th>\n",
       "      <td>15.000000</td>\n",
       "      <td>0.000000</td>\n",
       "      <td>0.000000</td>\n",
       "      <td>NaN</td>\n",
       "      <td>0.000000</td>\n",
       "      <td>0.000000</td>\n",
       "      <td>0.000000</td>\n",
       "      <td>0.000000</td>\n",
       "      <td>0.000000</td>\n",
       "      <td>0.000000</td>\n",
       "      <td>0.000000</td>\n",
       "      <td>NaN</td>\n",
       "      <td>0.000000</td>\n",
       "      <td>0.000000</td>\n",
       "      <td>4.106600e+02</td>\n",
       "      <td>4.878000e+02</td>\n",
       "      <td>2011.000000</td>\n",
       "    </tr>\n",
       "    <tr>\n",
       "      <th>75%</th>\n",
       "      <td>23.000000</td>\n",
       "      <td>0.000000</td>\n",
       "      <td>1.000000</td>\n",
       "      <td>NaN</td>\n",
       "      <td>0.000000</td>\n",
       "      <td>0.000000</td>\n",
       "      <td>0.000000</td>\n",
       "      <td>0.000000</td>\n",
       "      <td>0.000000</td>\n",
       "      <td>0.000000</td>\n",
       "      <td>0.000000</td>\n",
       "      <td>NaN</td>\n",
       "      <td>0.000000</td>\n",
       "      <td>0.000000</td>\n",
       "      <td>5.803675e+02</td>\n",
       "      <td>6.900175e+02</td>\n",
       "      <td>2012.000000</td>\n",
       "    </tr>\n",
       "    <tr>\n",
       "      <th>max</th>\n",
       "      <td>31.000000</td>\n",
       "      <td>1.000000</td>\n",
       "      <td>1.000000</td>\n",
       "      <td>35.000000</td>\n",
       "      <td>1.000000</td>\n",
       "      <td>1.000000</td>\n",
       "      <td>1.000000</td>\n",
       "      <td>1.000000</td>\n",
       "      <td>1.000000</td>\n",
       "      <td>1.000000</td>\n",
       "      <td>1.000000</td>\n",
       "      <td>999999.000000</td>\n",
       "      <td>1.000000</td>\n",
       "      <td>1.000000</td>\n",
       "      <td>1.025002e+07</td>\n",
       "      <td>1.250002e+07</td>\n",
       "      <td>2013.000000</td>\n",
       "    </tr>\n",
       "  </tbody>\n",
       "</table>\n",
       "</div>"
      ],
      "text/plain": [
       "          day_posted  eligible_almost_home_match  \\\n",
       "count  619326.000000               619326.000000   \n",
       "mean       15.454234                    0.060479   \n",
       "std         8.798625                    0.238372   \n",
       "min         1.000000                    0.000000   \n",
       "25%         8.000000                    0.000000   \n",
       "50%        15.000000                    0.000000   \n",
       "75%        23.000000                    0.000000   \n",
       "max        31.000000                    1.000000   \n",
       "\n",
       "       eligible_double_your_impact_match  fulfillment_labor_materials  \\\n",
       "count                      619326.000000                584244.000000   \n",
       "mean                            0.276628                    27.303921   \n",
       "std                             0.447331                     8.960030   \n",
       "min                             0.000000                     9.000000   \n",
       "25%                             0.000000                          NaN   \n",
       "50%                             0.000000                          NaN   \n",
       "75%                             1.000000                          NaN   \n",
       "max                             1.000000                    35.000000   \n",
       "\n",
       "         is_exciting  school_charter  school_charter_ready_promise  \\\n",
       "count  619326.000000   619326.000000                 619326.000000   \n",
       "mean        0.059274        0.086197                      0.005096   \n",
       "std         0.236137        0.280655                      0.071203   \n",
       "min         0.000000        0.000000                      0.000000   \n",
       "25%         0.000000        0.000000                      0.000000   \n",
       "50%         0.000000        0.000000                      0.000000   \n",
       "75%         0.000000        0.000000                      0.000000   \n",
       "max         1.000000        1.000000                      1.000000   \n",
       "\n",
       "         school_kipp  school_magnet    school_nlns  school_year_round  \\\n",
       "count  619326.000000  619326.000000  619326.000000      619326.000000   \n",
       "mean        0.006772       0.094482       0.015481           0.050132   \n",
       "std         0.082012       0.292498       0.123457           0.218217   \n",
       "min         0.000000       0.000000       0.000000           0.000000   \n",
       "25%         0.000000       0.000000       0.000000           0.000000   \n",
       "50%         0.000000       0.000000       0.000000           0.000000   \n",
       "75%         0.000000       0.000000       0.000000           0.000000   \n",
       "max         1.000000       1.000000       1.000000           1.000000   \n",
       "\n",
       "       students_reached  teacher_ny_teaching_fellow  \\\n",
       "count     619182.000000               619326.000000   \n",
       "mean          97.439624                    0.017876   \n",
       "std         2364.069969                    0.132500   \n",
       "min            0.000000                    0.000000   \n",
       "25%                 NaN                    0.000000   \n",
       "50%                 NaN                    0.000000   \n",
       "75%                 NaN                    0.000000   \n",
       "max       999999.000000                    1.000000   \n",
       "\n",
       "       teacher_teach_for_america  total_price_excluding_optional_support  \\\n",
       "count              619326.000000                            6.193260e+05   \n",
       "mean                    0.058265                            5.359818e+02   \n",
       "std                     0.234244                            1.312596e+04   \n",
       "min                     0.000000                            0.000000e+00   \n",
       "25%                     0.000000                            2.670000e+02   \n",
       "50%                     0.000000                            4.106600e+02   \n",
       "75%                     0.000000                            5.803675e+02   \n",
       "max                     1.000000                            1.025002e+07   \n",
       "\n",
       "       total_price_including_optional_support    year_posted  \n",
       "count                            6.193260e+05  619326.000000  \n",
       "mean                             6.380910e+02    2010.494957  \n",
       "std                              1.600576e+04       2.198525  \n",
       "min                              0.000000e+00    2002.000000  \n",
       "25%                              3.175000e+02    2009.000000  \n",
       "50%                              4.878000e+02    2011.000000  \n",
       "75%                              6.900175e+02    2012.000000  \n",
       "max                              1.250002e+07    2013.000000  "
      ]
     },
     "execution_count": 41,
     "metadata": {},
     "output_type": "execute_result"
    }
   ],
   "source": [
    "pre_modeling_data.describe()"
   ]
  },
  {
   "cell_type": "code",
   "execution_count": 15,
   "metadata": {
    "collapsed": false
   },
   "outputs": [
    {
     "data": {
      "text/plain": [
       "Index([u'day_of_week_posted', u'day_posted', u'eligible_almost_home_match',\n",
       "       u'eligible_double_your_impact_match', u'fulfillment_labor_materials',\n",
       "       u'grade_level', u'is_exciting', u'month_posted', u'poverty_level',\n",
       "       u'primary_focus_area', u'primary_focus_subject', u'resource_type',\n",
       "       u'school_charter', u'school_charter_ready_promise', u'school_kipp',\n",
       "       u'school_magnet', u'school_nlns', u'school_state', u'school_year_round',\n",
       "       u'secondary_focus_area', u'secondary_focus_subject',\n",
       "       u'students_reached', u'teacher_ny_teaching_fellow', u'teacher_prefix',\n",
       "       u'teacher_teach_for_america', u'total_price_excluding_optional_support',\n",
       "       u'total_price_including_optional_support', u'year_posted'],\n",
       "      dtype='object')"
      ]
     },
     "execution_count": 15,
     "metadata": {},
     "output_type": "execute_result"
    }
   ],
   "source": [
    "pre_modeling_data.columns"
   ]
  },
  {
   "cell_type": "code",
   "execution_count": 16,
   "metadata": {
    "collapsed": false
   },
   "outputs": [
    {
     "data": {
      "text/plain": [
       "0    581870\n",
       "1     37456\n",
       "Name: eligible_almost_home_match, dtype: int64"
      ]
     },
     "execution_count": 16,
     "metadata": {},
     "output_type": "execute_result"
    }
   ],
   "source": [
    "pre_modeling_data.eligible_almost_home_match.value_counts()"
   ]
  },
  {
   "cell_type": "code",
   "execution_count": 17,
   "metadata": {
    "collapsed": false
   },
   "outputs": [],
   "source": [
    "mask = ['school_charter_ready_promise', 'school_kipp', 'school_magnet', 'school_charter', 'teacher_teach_for_america',\n",
    "        'school_nlns','is_exciting', 'eligible_almost_home_match','eligible_double_your_impact_match']"
   ]
  },
  {
   "cell_type": "code",
   "execution_count": 21,
   "metadata": {
    "collapsed": false
   },
   "outputs": [],
   "source": [
    "binary_features = pre_modeling_data[mask]"
   ]
  },
  {
   "cell_type": "code",
   "execution_count": 22,
   "metadata": {
    "collapsed": false
   },
   "outputs": [
    {
     "data": {
      "text/html": [
       "<div>\n",
       "<table border=\"1\" class=\"dataframe\">\n",
       "  <thead>\n",
       "    <tr style=\"text-align: right;\">\n",
       "      <th></th>\n",
       "      <th>school_charter_ready_promise</th>\n",
       "      <th>school_kipp</th>\n",
       "      <th>school_magnet</th>\n",
       "      <th>school_charter</th>\n",
       "      <th>teacher_teach_for_america</th>\n",
       "      <th>school_nlns</th>\n",
       "      <th>eligible_almost_home_match</th>\n",
       "      <th>eligible_double_your_impact_match</th>\n",
       "    </tr>\n",
       "    <tr>\n",
       "      <th>is_exciting</th>\n",
       "      <th></th>\n",
       "      <th></th>\n",
       "      <th></th>\n",
       "      <th></th>\n",
       "      <th></th>\n",
       "      <th></th>\n",
       "      <th></th>\n",
       "      <th></th>\n",
       "    </tr>\n",
       "  </thead>\n",
       "  <tbody>\n",
       "    <tr>\n",
       "      <th>0</th>\n",
       "      <td>0.004960</td>\n",
       "      <td>0.006359</td>\n",
       "      <td>0.094649</td>\n",
       "      <td>0.082919</td>\n",
       "      <td>0.055273</td>\n",
       "      <td>0.015209</td>\n",
       "      <td>0.060752</td>\n",
       "      <td>0.277435</td>\n",
       "    </tr>\n",
       "    <tr>\n",
       "      <th>1</th>\n",
       "      <td>0.007246</td>\n",
       "      <td>0.013321</td>\n",
       "      <td>0.091828</td>\n",
       "      <td>0.138218</td>\n",
       "      <td>0.105748</td>\n",
       "      <td>0.019804</td>\n",
       "      <td>0.056143</td>\n",
       "      <td>0.263825</td>\n",
       "    </tr>\n",
       "  </tbody>\n",
       "</table>\n",
       "</div>"
      ],
      "text/plain": [
       "             school_charter_ready_promise  school_kipp  school_magnet  \\\n",
       "is_exciting                                                             \n",
       "0                                0.004960     0.006359       0.094649   \n",
       "1                                0.007246     0.013321       0.091828   \n",
       "\n",
       "             school_charter  teacher_teach_for_america  school_nlns  \\\n",
       "is_exciting                                                           \n",
       "0                  0.082919                   0.055273     0.015209   \n",
       "1                  0.138218                   0.105748     0.019804   \n",
       "\n",
       "             eligible_almost_home_match  eligible_double_your_impact_match  \n",
       "is_exciting                                                                 \n",
       "0                              0.060752                           0.277435  \n",
       "1                              0.056143                           0.263825  "
      ]
     },
     "execution_count": 22,
     "metadata": {},
     "output_type": "execute_result"
    }
   ],
   "source": [
    "binary_features.groupby('is_exciting').mean()"
   ]
  },
  {
   "cell_type": "code",
   "execution_count": 316,
   "metadata": {
    "collapsed": false
   },
   "outputs": [],
   "source": [
    "modeling_data = pd.concat([\n",
    "    pd.get_dummies(pre_modeling_data.loc[:,['school_state', 'day_posted', 'day_of_week_posted', 'grade_level', \n",
    "                                              'month_posted', 'resource_type', 'primary_focus_area', \n",
    "                                              'primary_focus_subject', 'teacher_prefix',\n",
    "                                              'secondary_focus_area', 'secondary_focus_subject']]),\n",
    "    pre_modeling_data.loc[:, ['total_price_excluding_optional_support',\n",
    "                     'students_reached', 'is_exciting']],\n",
    "        binary_features.drop('is_exciting', 1)], \n",
    "                          axis = 1)\n",
    "\n",
    "modeling_data.dropna(inplace=True)"
   ]
  },
  {
   "cell_type": "code",
   "execution_count": 317,
   "metadata": {
    "collapsed": false
   },
   "outputs": [
    {
     "data": {
      "text/plain": [
       "(619326, 28)"
      ]
     },
     "execution_count": 317,
     "metadata": {},
     "output_type": "execute_result"
    }
   ],
   "source": [
    "pre_modeling_data.shape"
   ]
  },
  {
   "cell_type": "markdown",
   "metadata": {},
   "source": [
    "### Train Test Split"
   ]
  },
  {
   "cell_type": "code",
   "execution_count": 98,
   "metadata": {
    "collapsed": false
   },
   "outputs": [],
   "source": [
    "X = modeling_data.loc[:,modeling_data.columns.difference(['is_exciting'])]\n",
    "y = modeling_data['is_exciting']"
   ]
  },
  {
   "cell_type": "code",
   "execution_count": 99,
   "metadata": {
    "collapsed": true
   },
   "outputs": [],
   "source": [
    "X_train, X_test, y_train, y_test = cross_validation.train_test_split(X, y, test_size = .2)"
   ]
  },
  {
   "cell_type": "markdown",
   "metadata": {},
   "source": [
    "### Under Sample"
   ]
  },
  {
   "cell_type": "code",
   "execution_count": 117,
   "metadata": {
    "collapsed": true
   },
   "outputs": [],
   "source": [
    "from imblearn.under_sampling import RandomUnderSampler\n",
    "\n",
    "under_sample = RandomUnderSampler()\n",
    "underX_train, undery_train = under_sample.fit_sample(X_train, y_train)"
   ]
  },
  {
   "cell_type": "code",
   "execution_count": 118,
   "metadata": {
    "collapsed": false
   },
   "outputs": [
    {
     "data": {
      "text/plain": [
       "Counter({0: 29414, 1: 29414})"
      ]
     },
     "execution_count": 118,
     "metadata": {},
     "output_type": "execute_result"
    }
   ],
   "source": [
    "# It deals with the imbalanced classes \n",
    "Counter(undery_train)"
   ]
  },
  {
   "cell_type": "markdown",
   "metadata": {},
   "source": [
    "# 3. Modeling"
   ]
  },
  {
   "cell_type": "code",
   "execution_count": 210,
   "metadata": {
    "collapsed": false
   },
   "outputs": [],
   "source": [
    "from sklearn.linear_model import LogisticRegression\n",
    "from sklearn.cross_validation import StratifiedKFold\n",
    "from sklearn.metrics import roc_auc_score, auc, roc_curve\n",
    "from sklearn.ensemble import RandomForestClassifier\n",
    "from sklearn import cross_validation\n",
    "from sklearn.metrics import classification_report\n",
    "from sklearn.grid_search import GridSearchCV\n",
    "import operator"
   ]
  },
  {
   "cell_type": "markdown",
   "metadata": {},
   "source": [
    "### Logistic Regression"
   ]
  },
  {
   "cell_type": "code",
   "execution_count": 181,
   "metadata": {
    "collapsed": false
   },
   "outputs": [
    {
     "data": {
      "text/plain": [
       "LogisticRegression(C=1.0, class_weight=None, dual=False, fit_intercept=True,\n",
       "          intercept_scaling=1, max_iter=100, multi_class='ovr', n_jobs=1,\n",
       "          penalty='l2', random_state=None, solver='liblinear', tol=0.0001,\n",
       "          verbose=0, warm_start=False)"
      ]
     },
     "execution_count": 181,
     "metadata": {},
     "output_type": "execute_result"
    }
   ],
   "source": [
    "lg = LogisticRegression()\n",
    "lg.fit(underX_train, undery_train)"
   ]
  },
  {
   "cell_type": "code",
   "execution_count": 182,
   "metadata": {
    "collapsed": false
   },
   "outputs": [
    {
     "name": "stdout",
     "output_type": "stream",
     "text": [
      "             precision    recall  f1-score   support\n",
      "\n",
      "          0       0.98      0.55      0.70    116551\n",
      "          1       0.10      0.81      0.18      7286\n",
      "\n",
      "avg / total       0.93      0.57      0.67    123837\n",
      "\n",
      "AUC Score: 0.73790817318363444\n"
     ]
    }
   ],
   "source": [
    "# Metrics\n",
    "print classification_report(y_test, lg.predict(X_test))\n",
    "print 'AUC Score: %r'%roc_auc_score(y_test, lg.predict_proba(X_test)[:,1])"
   ]
  },
  {
   "cell_type": "code",
   "execution_count": 183,
   "metadata": {
    "collapsed": false
   },
   "outputs": [
    {
     "data": {
      "image/png": "[encoded data removed]",
      "text/plain": [
       "<matplotlib.figure.Figure at 0x123e6ee10>"
      ]
     },
     "metadata": {},
     "output_type": "display_data"
    }
   ],
   "source": [
    "fpr, tpr, thresholds = roc_curve(y_test, lg_pred)\n",
    "roc_auc = auc(fpr, tpr)\n",
    "plt.title('ROC Curve')\n",
    "plt.plot(fpr, tpr,\n",
    "label='AUC = %0.2f'% roc_auc)\n",
    "plt.legend(loc='lower right')\n",
    "plt.plot([0,1],[0,1],'r--')\n",
    "plt.xlim([-0.1,1.2])\n",
    "plt.ylim([-0.1,1.2])\n",
    "plt.ylabel('True Positive Rate')\n",
    "_ = plt.xlabel('False Positive Rate')"
   ]
  },
  {
   "cell_type": "markdown",
   "metadata": {},
   "source": [
    "### Random Forrest"
   ]
  },
  {
   "cell_type": "code",
   "execution_count": 184,
   "metadata": {
    "collapsed": false
   },
   "outputs": [],
   "source": [
    "rf = RandomForestClassifier(n_jobs= -1)\n",
    "rf.fit(underX_train, undery_train)\n",
    "rf_pred = rf.predict(X_test)"
   ]
  },
  {
   "cell_type": "code",
   "execution_count": 185,
   "metadata": {
    "collapsed": false
   },
   "outputs": [
    {
     "name": "stdout",
     "output_type": "stream",
     "text": [
      "             precision    recall  f1-score   support\n",
      "\n",
      "          0       0.95      0.65      0.78    116551\n",
      "          1       0.08      0.49      0.14      7286\n",
      "\n",
      "avg / total       0.90      0.64      0.74    123837\n",
      "\n",
      "AUC Score: 0.60519536541353036\n"
     ]
    }
   ],
   "source": [
    "# Metrics\n",
    "print classification_report(y_test, rf_pred)\n",
    "print 'AUC Score: %r'%roc_auc_score(y_test, rf.predict_proba(X_test)[:,1])"
   ]
  },
  {
   "cell_type": "code",
   "execution_count": 212,
   "metadata": {
    "collapsed": false,
    "scrolled": true
   },
   "outputs": [],
   "source": [
    "grid_rf = RandomForestClassifier(n_jobs= -1)\n",
    "k_fold = StratifiedKFold(undery_train, random_state = 1)\n",
    "\n",
    "param_grid = {'n_estimators': [10, 30, 40, 50, 70],\n",
    "         'max_features': [5, 10, 15, 20, 40, 'sqrt'],\n",
    "         'max_depth': [10, 30, 40, 50, 60]}\n",
    "grid_search = GridSearchCV(grid_rf, scoring = 'roc_auc', param_grid = param_grid, cv = k_fold)\n",
    "grid_search.fit(underX_train, undery_train)"
   ]
  },
  {
   "cell_type": "code",
   "execution_count": 211,
   "metadata": {
    "collapsed": false
   },
   "outputs": [
    {
     "name": "stdout",
     "output_type": "stream",
     "text": [
      "Model with rank: 1\n",
      "Mean validation score: 0.672 (std: 0.008)\n",
      "Parameters: {'max_features': 40, 'n_estimators': 70, 'max_depth': 30}\n",
      "\n",
      "Model with rank: 2\n",
      "Mean validation score: 0.672 (std: 0.006)\n",
      "Parameters: {'max_features': 40, 'n_estimators': 70, 'max_depth': 50}\n",
      "\n",
      "Model with rank: 3\n",
      "Mean validation score: 0.671 (std: 0.008)\n",
      "Parameters: {'max_features': 40, 'n_estimators': 70, 'max_depth': 60}\n",
      "\n"
     ]
    }
   ],
   "source": [
    "def report(grid_scores, n_top=3):\n",
    "    top_scores = sorted(grid_scores, key = operator.itemgetter(1), reverse=True)[:n_top]\n",
    "    for i, score in enumerate(top_scores):\n",
    "        print(\"Model with rank: {0}\".format(i + 1))\n",
    "        print(\"Mean validation score: {0:.3f} (std: {1:.3f})\".format(\n",
    "              score.mean_validation_score,\n",
    "              np.std(score.cv_validation_scores)))\n",
    "        print(\"Parameters: {0}\".format(score.parameters))\n",
    "        print(\"\")\n",
    "report(grid_search.grid_scores_)"
   ]
  },
  {
   "cell_type": "code",
   "execution_count": 257,
   "metadata": {
    "collapsed": false
   },
   "outputs": [],
   "source": [
    "# Best Random Forrest Classifier\n",
    "best_rf = grid_search.best_estimator_"
   ]
  },
  {
   "cell_type": "markdown",
   "metadata": {},
   "source": [
    "### Feature Significance "
   ]
  },
  {
   "cell_type": "code",
   "execution_count": 265,
   "metadata": {
    "collapsed": false
   },
   "outputs": [
    {
     "data": {
      "text/plain": [
       "<matplotlib.axes._subplots.AxesSubplot at 0x13c430990>"
      ]
     },
     "execution_count": 265,
     "metadata": {},
     "output_type": "execute_result"
    },
    {
     "data": {
      "image/png": "[encoded data removed]",
      "text/plain": [
       "<matplotlib.figure.Figure at 0x145149b50>"
      ]
     },
     "metadata": {},
     "output_type": "display_data"
    }
   ],
   "source": [
    "\n",
    "df = pd.DataFrame({'features': X.columns, 'importance': best_rf.feature_importances_})\\\n",
    "                    .sort_values('importance', ascending= False)\n",
    "sns.barplot(x = 'importance', y = 'features', data = df.head(10), orient='h')"
   ]
  },
  {
   "cell_type": "markdown",
   "metadata": {},
   "source": [
    "# 4. Submission"
   ]
  },
  {
   "cell_type": "code",
   "execution_count": 305,
   "metadata": {
    "collapsed": false
   },
   "outputs": [],
   "source": [
    "test = data[data.date_posted >= datetime(2014, 1, 1)]"
   ]
  },
  {
   "cell_type": "code",
   "execution_count": 306,
   "metadata": {
    "collapsed": true
   },
   "outputs": [],
   "source": [
    "test = test.applymap(lambda x: 1 if x == 't' else 0 if x == 'f' else x)\n",
    "test['year_posted'] = map(lambda x: x.year, test.date_posted)\n",
    "test['month_posted'] = map(lambda x: x.strftime(\"%b\"), test.date_posted)\n",
    "test['day_of_week_posted'] = map(lambda x: calendar.day_name[x.weekday()], test.date_posted)\n",
    "test['day_posted'] = map(lambda x: x.day, test.date_posted)"
   ]
  },
  {
   "cell_type": "code",
   "execution_count": 307,
   "metadata": {
    "collapsed": false
   },
   "outputs": [],
   "source": [
    "submission_data = pd.concat([\n",
    "        pd.get_dummies(test.loc[:,['school_state', 'day_posted', 'day_of_week_posted', 'grade_level', \n",
    "                                              'month_posted', 'resource_type', 'primary_focus_area', \n",
    "                                              'primary_focus_subject', 'teacher_prefix']]),\n",
    "        test.loc[:,[i for i in mask if i != 'is_exciting']],\n",
    "        test.loc[:, ['total_price_including_optional_support', 'total_price_excluding_optional_support',\n",
    "                     'students_reached']]], axis = 1)"
   ]
  },
  {
   "cell_type": "code",
   "execution_count": 308,
   "metadata": {
    "collapsed": true
   },
   "outputs": [],
   "source": [
    "checking = submission_data.fillna(0)"
   ]
  },
  {
   "cell_type": "code",
   "execution_count": 309,
   "metadata": {
    "collapsed": false
   },
   "outputs": [],
   "source": [
    "for column in X.columns:\n",
    "    if column not in checking.columns: \n",
    "        checking[column] = 0  "
   ]
  },
  {
   "cell_type": "code",
   "execution_count": 310,
   "metadata": {
    "collapsed": false
   },
   "outputs": [],
   "source": [
    "final_submission = pd.DataFrame({'is_exciting': best_rf.predict_proba(checking)[:,1]}, index= test.projectid)"
   ]
  },
  {
   "cell_type": "code",
   "execution_count": 315,
   "metadata": {
    "collapsed": false
   },
   "outputs": [],
   "source": [
    "final_submission.to_csv('my_submission.csv')"
   ]
  },
  {
   "cell_type": "code",
   "execution_count": null,
   "metadata": {
    "collapsed": true
   },
   "outputs": [],
   "source": []
  }
 ],
 "metadata": {
  "anaconda-cloud": {},
  "kernelspec": {
   "display_name": "Python [conda env:datasci27]",
   "language": "python",
   "name": "conda-env-datasci27-py"
  },
  "language_info": {
   "codemirror_mode": {
    "name": "ipython",
    "version": 2
   },
   "file_extension": ".py",
   "mimetype": "text/x-python",
   "name": "python",
   "nbconvert_exporter": "python",
   "pygments_lexer": "ipython2",
   "version": "2.7.12"
  }
 },
 "nbformat": 4,
 "nbformat_minor": 1
}
